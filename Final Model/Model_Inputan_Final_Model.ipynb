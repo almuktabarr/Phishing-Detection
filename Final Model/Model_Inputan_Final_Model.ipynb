{
  "cells": [
    {
      "cell_type": "markdown",
      "source": [
        "**Tugas Akhir_Mohammad Al Muktabar_120140222**\n",
        "\n",
        "**Model Deteksi situs phishing berdasarkan inputan pengguna**\n",
        "\n",
        "Model ini dibangun melalui implementasi algoritma Extreme Gradient Boosting menggunakan optimasi Diversity Oriented Firefly Algorithm untuk melakukan penyesuaian hyperparameter. Model dilatih menggunakan 634.926 dataset dan 26 fitur lexical yang kemudian diuji menggunakan 1000 dataset baru dari sumber yang berbeda dengan hasil pengujian sebesar 78.70% URL yang mampu dideteksi dengan benar"
      ],
      "metadata": {
        "id": "NJMfQOMr5-xR"
      }
    },
    {
      "cell_type": "markdown",
      "source": [
        "#Melakukan Import Library"
      ],
      "metadata": {
        "id": "ce1hCbmN2fop"
      }
    },
    {
      "cell_type": "code",
      "execution_count": 1,
      "metadata": {
        "id": "C_HtBkOLg6-M"
      },
      "outputs": [],
      "source": [
        "#Library\n",
        "import numpy as np\n",
        "import pandas as pd\n",
        "import requests\n",
        "import string\n",
        "import re\n",
        "import http.client\n",
        "import math\n",
        "import joblib\n",
        "\n",
        "from urllib.parse import urlparse, unquote\n",
        "from collections import Counter\n",
        "from IPython.display import clear_output"
      ]
    },
    {
      "cell_type": "markdown",
      "source": [
        "#Memuat Dataset"
      ],
      "metadata": {
        "id": "vWw4NT0e2kk-"
      }
    },
    {
      "cell_type": "code",
      "execution_count": 2,
      "metadata": {
        "id": "fK6KGFnGsWZb"
      },
      "outputs": [],
      "source": [
        "#Model Prediksi\n",
        "model_path = '/content/drive/MyDrive/Final Model/DOFA-XGBoost_model.pkl'\n",
        "#Dataset Pengujian\n",
        "data_testing = pd.read_csv('/content/drive/MyDrive/Dataset/Dataset_TA(2).csv')\n",
        "#List URL Short\n",
        "list_short = pd.read_csv('/content/drive/MyDrive/Dataset/short_link_list.csv')\n",
        "#List Top Level Domain\n",
        "list_TLD = pd.read_csv(\"/content/drive/MyDrive/Dataset/tlds.csv\")\n",
        "\n",
        "#Menyimpan ke dalam variabel\n",
        "model_2 = joblib.load(model_path)\n",
        "list_short = list_short['list'].to_list()\n",
        "list_TLD = list_TLD['TLD'].str.lower().to_list()"
      ]
    },
    {
      "cell_type": "markdown",
      "metadata": {
        "id": "PwBVAVy4kcQh"
      },
      "source": [
        "##Membuat Fungsi Ekstraksi URL"
      ]
    },
    {
      "cell_type": "code",
      "execution_count": 4,
      "metadata": {
        "id": "rs17R5quE4Mv"
      },
      "outputs": [],
      "source": [
        "# Fungsi untuk menambahkan skema jika tidak ada\n",
        "def add_scheme_if_missing(url):\n",
        "    if \"://\" not in url:\n",
        "        url = \"http://\" + url\n",
        "    return urlparse(url)\n",
        "\n",
        "# Fungsi untuk mengekstraksi domain\n",
        "def extract_domain(url):\n",
        "    try:\n",
        "        return add_scheme_if_missing(url).netloc\n",
        "    except ValueError as e:\n",
        "        return None\n",
        "\n",
        "#Fungsi Untuk Menghitung Jumlah karakter Khusus pada url\n",
        "def count_suspicious_characters(url):\n",
        "    parsed_url = urlparse(url)\n",
        "    # Mengabaikan protokol\n",
        "    url_tanpa_protokol = url.replace(f\"{parsed_url.scheme}://\", \"\", 1)\n",
        "\n",
        "    # Simbol yang dihitung\n",
        "    symbols_to_count = '`%#^$&-*:'\n",
        "\n",
        "    # Menghitung jumlah simbol yang sesuai\n",
        "    suspicious_char_count = sum(1 for char in url_tanpa_protokol if char in symbols_to_count)\n",
        "\n",
        "    return suspicious_char_count\n",
        "\n",
        "#Fungsi Untuk Menghitung Rasio Jumlah karakter Khusus pada url\n",
        "def ratio_special_characters(url):\n",
        "    symbols = count_suspicious_characters(url)\n",
        "\n",
        "    # Menghitung jumlah karakter alfanumerik\n",
        "    alphanumeric = sum(1 for char in url if char.isalnum())\n",
        "\n",
        "    # Menghitung rasio\n",
        "    return symbols / alphanumeric if alphanumeric > 0 else 0\n",
        "\n",
        "#Fungsi untuk menghitung jumlah garis miring '/' pada url\n",
        "def count_slashes(url):\n",
        "    parsed_url = urlparse(url)\n",
        "    # Mengabaikan protokol\n",
        "    url_tanpa_protokol = url.replace(f\"{parsed_url.scheme}://\", \"\", 1)\n",
        "\n",
        "    # Menghitung jumlah garis miring setelah protokol dihapus\n",
        "    return url_tanpa_protokol.count('/')\n",
        "\n",
        "# Daftar kata-kata mencurigakan\n",
        "suspicious_keywords = [\n",
        "    'access', 'accounts', 'auth', 'security', 'portal', 'user', 'company', 'admin', 'credential', 'identity',\n",
        "    'login', 'password', 'privilege', 'token', 'validation', 'assurance', 'availability', 'confidentiality',\n",
        "    'integrity', 'privacy', 'safety', 'trust', 'verification', 'check', 'key', 'lock', 'biometrics',\n",
        "    'authorize', 'authentication', 'session', 'profile', 'service', 'support', 'notify',\n",
        "    'email', 'account', 'update', 'secure', 'notification', 'transaction', 'validate', 'confirmation',\n",
        "    'manager', 'assistant', 'dashboard', 'information', 'communication', 'finance', 'maintenance',\n",
        "    'customer', 'invoice', 'billing', 'subscription', 'order', 'shipment',\n",
        "    'purchase', 'alert', 'receipt', 'accountinfo', 'payment', 'invoiceinfo', 'orderinfo'\n",
        "]\n",
        "suspicious_keywords_set = set(suspicious_keywords)\n",
        "\n",
        "# Fungsi untuk menghitung jumlah kata mencurigakan dalam sebuah URL\n",
        "def count_suspicious_keywords(url):\n",
        "    parsed_url = urlparse(url)\n",
        "    # Menghilangkan protokol\n",
        "    url_tanpa_protokol = url.replace(f\"{parsed_url.scheme}://\", \"\", 1).lower()\n",
        "\n",
        "    # Menghapus simbol yang tidak diinginkan, kecuali titik, garis miring, dan tanda hubung\n",
        "    cleaned_url = re.sub(r'[^\\w./\\-]', '', url_tanpa_protokol)\n",
        "\n",
        "    # Memisahkan URL berdasarkan pemisah titik (.), garis miring (/), dan tanda hubung (-)\n",
        "    words = re.split(r'[./\\-]', cleaned_url)\n",
        "\n",
        "    # Menghapus elemen kosong\n",
        "    words = [word for word in words if word]\n",
        "\n",
        "    # Mencari kata mencurigakan menggunakan substring matching\n",
        "    suspicious_words = []\n",
        "    for word in words:\n",
        "        for keyword in suspicious_keywords_set:\n",
        "            if keyword in word:\n",
        "                suspicious_words.append(keyword)\n",
        "                break  # Hindari duplikasi kata mencurigakan dari kata yang sama\n",
        "    return len(suspicious_words)\n",
        "# Terapkan fungsi pada dataset\n",
        "\n",
        "#Fungsi untuk menghitung jumlah titik '.' pada url\n",
        "def count_dots(url):\n",
        "    # Menghitung jumlah '.' dalam URL\n",
        "    return url.count('.')\n",
        "\n",
        "#Fungsi untuk menghitung jumlah tanda hubung '-' pada url\n",
        "def count_dashes(url):\n",
        "    # Menghitung jumlah '-' dalam URL\n",
        "    return url.count('-')\n",
        "\n",
        "# Fungsi untuk mendeteksi apakah protokol adalah 'http' atau 'https', atau 'Lainnya', atau 'None'\n",
        "# Ganti nama memiliki protokol\n",
        "def has_protocol(url):\n",
        "    # Pola regex untuk mencocokkan protokol apapun\n",
        "    protocol_pattern = r'^(\\w+)://'\n",
        "    match = re.match(protocol_pattern, url)\n",
        "\n",
        "    if match:\n",
        "        protocol = match.group(1)\n",
        "        if protocol in ['http', 'https']:\n",
        "            return protocol  # Mengembalikan 'http' atau 'https'\n",
        "        else:\n",
        "            return 'other'  # Mengembalikan 'other' untuk protokol selain http/https\n",
        "    else:\n",
        "        return 'none'  # Mengembalikan 'none' jika tidak ada protokol\n",
        "\n",
        "# Fungsi untuk menghitung entropi domain\n",
        "def entropy(string):\n",
        "    p, lns = Counter(string), float(len(string))\n",
        "    return -sum(count/lns * math.log2(count/lns) for count in p.values())\n",
        "\n",
        "# Fungsi untuk menghitung rasio panjang\n",
        "def ratio(part, whole):\n",
        "    return len(part) / len(whole) if whole else 0\n",
        "\n",
        "# Fungsi untuk menghitung rasio angka dalam sebuah string\n",
        "def digit_ratio(string):\n",
        "    digits = sum(c.isdigit() for c in string)\n",
        "    return digits / len(string) if len(string) > 0 else 0\n",
        "\n",
        "# Fungsi untuk menghitung panjang rata-rata token dalam path\n",
        "def avg_token_length(path):\n",
        "    tokens = path.split('/')\n",
        "    if len(tokens) > 1:\n",
        "        return sum(len(token) for token in tokens) / len(tokens)\n",
        "    return 0\n",
        "\n",
        "# Fungsi untuk menghitung rasio panjang karakter yang berkelanjutan\n",
        "def continuous_char_ratio(string):\n",
        "    max_seq = 1\n",
        "    current_seq = 1\n",
        "    for i in range(1, len(string)):\n",
        "        if string[i] == string[i-1]:\n",
        "            current_seq += 1\n",
        "            max_seq = max(max_seq, current_seq)\n",
        "        else:\n",
        "            current_seq = 1\n",
        "    return max_seq / len(string) if len(string) > 0 else 0\n",
        "\n",
        "# Fungsi untuk menghitung jumlah token dalam domain\n",
        "def domain_token_count(domain):\n",
        "    return len(domain.split('.'))\n",
        "\n",
        "# Fungsi untuk mengekstrak TLD dari domain\n",
        "def extract_tld(domain):\n",
        "    tokens = domain.split('.')\n",
        "    tld = tokens[-1] if len(tokens) > 1 else ''\n",
        "    cleaned_tld = re.sub(r'[^a-z]', '', tld.lower())\n",
        "    return 1 if cleaned_tld in list_TLD else 0\n",
        "\n",
        "# Fungsi untuk menghitung panjang domain\n",
        "def domain_length(domain):\n",
        "    return len(domain)\n",
        "\n",
        "# Fungsi untuk menghitung panjang nama file di URL\n",
        "def file_name_length(path):\n",
        "    filename = path.split('/')[-1]\n",
        "    return len(filename) if filename else 0\n",
        "\n",
        "# Fungsi untuk menghitung jumlah digit dalam query\n",
        "def query_digit_count(query):\n",
        "    return sum(c.isdigit() for c in query)\n",
        "\n",
        "# Fungsi untuk menghitung panjang token terpanjang dalam path\n",
        "def longest_path_token_length(path):\n",
        "    tokens = path.split('/')\n",
        "    return max(len(token) for token in tokens) if tokens else 0\n",
        "\n",
        "# Fungsi untuk menambahkan protokol\n",
        "def parse_with_default_scheme(url):\n",
        "    if \"://\" not in url:\n",
        "        url = \"http://\" + url\n",
        "    return urlparse(url)\n",
        "\n",
        "#Fungsi untuk melakukan label encoding\n",
        "def Label_Encoding(value):\n",
        "    if value is True:\n",
        "        return 1\n",
        "    elif value is False or value == 'none':\n",
        "        return 0\n",
        "    elif value == 'https':\n",
        "        return 1\n",
        "    elif value == 'http':\n",
        "        return 2\n",
        "    else:\n",
        "        return 3"
      ]
    },
    {
      "cell_type": "markdown",
      "source": [
        "##Membuat Fungsi Validasi URL"
      ],
      "metadata": {
        "id": "k5kuMuoX3mtM"
      }
    },
    {
      "cell_type": "code",
      "source": [
        "#Fungsi untuk melakukan validasi URL\n",
        "def validate_url(url):\n",
        "    # Tambahkan skema jika tidak ada\n",
        "    if \"://\" not in url:\n",
        "        url = \"http://\" + url\n",
        "\n",
        "    try:\n",
        "        # Lakukan permintaan GET ke URL\n",
        "        response = requests.get(url, allow_redirects=True, timeout=3)\n",
        "\n",
        "        if response.status_code == 400:\n",
        "            return False\n",
        "        elif response.status_code == 404:\n",
        "            return False\n",
        "        else:\n",
        "            return True\n",
        "    except requests.exceptions.RequestException:\n",
        "        return False\n",
        "\n",
        "#Fungsi untuk melakukan unshorten URL\n",
        "def unshorten_url(url):\n",
        "    try:\n",
        "        # Menambahkan skema jika tidak ada\n",
        "        if \"://\" not in url:\n",
        "            url = \"http://\" + url\n",
        "\n",
        "        # Melakukan permintaan GET ke URL dengan mengizinkan pengalihan (redirects)\n",
        "        response = requests.get(url, allow_redirects=True, timeout=3)\n",
        "\n",
        "        return response.url\n",
        "    except requests.exceptions.RequestException:\n",
        "        return None\n",
        "\n",
        "#Fungsi untuk menambahkan protokol jika URL yang diinputkan tidak memiliki protokol\n",
        "def get_protocol(url):\n",
        "    # Tambahkan protokol jika tidak ada\n",
        "    if \"://\" not in url:\n",
        "        url = 'http://' + url\n",
        "\n",
        "    # Parse URL\n",
        "    parsed_url = urlparse(url)\n",
        "\n",
        "    try:\n",
        "        if parsed_url.scheme == 'https':\n",
        "            conn = http.client.HTTPSConnection(parsed_url.netloc, timeout=3)\n",
        "        elif parsed_url.scheme == 'http':\n",
        "            conn = http.client.HTTPConnection(parsed_url.netloc, timeout=3)\n",
        "        else:\n",
        "            return url\n",
        "\n",
        "        # Buat permintaan ke URL asli\n",
        "        conn.request(\"HEAD\", parsed_url.path or \"/\")\n",
        "        response = conn.getresponse()\n",
        "\n",
        "        # Periksa status redirect\n",
        "        if response.status in (301, 302, 303, 307, 308):\n",
        "            redirected_url = response.getheader(\"Location\")\n",
        "            # Pastikan URL lengkap\n",
        "            if not redirected_url.startswith(('http://', 'https://')):\n",
        "                redirected_url = parsed_url.scheme + \"://\" + parsed_url.netloc + redirected_url\n",
        "\n",
        "            return redirected_url\n",
        "        else:\n",
        "            return url\n",
        "\n",
        "    except Exception as e:\n",
        "        return url"
      ],
      "metadata": {
        "id": "HAL1fZPGpZ2s"
      },
      "execution_count": 5,
      "outputs": []
    },
    {
      "cell_type": "markdown",
      "metadata": {
        "id": "uRqYPuVzignB"
      },
      "source": [
        "##Membuat Fungsi untuk Memproses URL"
      ]
    },
    {
      "cell_type": "code",
      "execution_count": 6,
      "metadata": {
        "id": "3cpE1jmIie4w"
      },
      "outputs": [],
      "source": [
        "#Fungsi untuk Mengekstrak Fitur pada URL yang diinputkan Pengguna\n",
        "def extract_features(url):\n",
        "    # Validasi URL terlebih dahulu\n",
        "    if not validate_url(url):\n",
        "        return {'error': 'URL Yang Anda Inputkan Tidak Valid, Silahkan Inputkan URL yang Valid'}\n",
        "\n",
        "    protokol = has_protocol(url)\n",
        "    domain = extract_domain(url)\n",
        "    if domain in list_short:\n",
        "        url = unshorten_url(url)\n",
        "        if url is None:  # Jika unshorten_url gagal\n",
        "            return {'error': 'URL Yang Anda Inputkan Tidak Valid, Silahkan Inputkan URL yang Valid'}\n",
        "    elif protokol == 'none':\n",
        "        url = get_protocol(url)\n",
        "    else:\n",
        "        url = url\n",
        "\n",
        "    features = {\n",
        "        'panjang_url': len(url),\n",
        "        'panjang_domain': domain_length(parse_with_default_scheme(url).netloc),\n",
        "        'panjang_nama_file': file_name_length(parse_with_default_scheme(url).path),\n",
        "        'panjang_token_path_terpanjang': longest_path_token_length(parse_with_default_scheme(url).path),\n",
        "        'jumlah_angka_kueri': query_digit_count(parse_with_default_scheme(url).query),\n",
        "        'jumlah_token_domain': domain_token_count(parse_with_default_scheme(url).netloc),\n",
        "        'jumlah_garis_miring': count_slashes(url),\n",
        "        'jumlah_kata_mencurigakan': count_suspicious_keywords(url),\n",
        "        'jumlah_titik': count_dots(url),\n",
        "        'jumlah_tanda_hubung': count_dashes(url),\n",
        "        'jumlah_karakter_mencurigakan': count_suspicious_characters(url),\n",
        "        'suspicious_char_ratio': ratio_special_characters(url),\n",
        "        'arg_path_ratio': ratio(parse_with_default_scheme(url).query, parse_with_default_scheme(url).path),\n",
        "        'arg_url_ratio': ratio(parse_with_default_scheme(url).query, url),\n",
        "        'arg_domain_ratio': ratio(parse_with_default_scheme(url).query, parse_with_default_scheme(url).netloc),\n",
        "        'domain_url_ratio': ratio(parse_with_default_scheme(url).netloc, url),\n",
        "        'path_url_ratio': ratio(parse_with_default_scheme(url).path, url),\n",
        "        'path_domain_ratio': ratio(parse_with_default_scheme(url).path, parse_with_default_scheme(url).netloc),\n",
        "        'digit_ratio_url': digit_ratio(url),\n",
        "        'digit_ratio_filename': digit_ratio(parse_with_default_scheme(url).path.split('/')[-1]),\n",
        "        'digit_ratio_after_path': digit_ratio(parse_with_default_scheme(url).query),\n",
        "        'continuous_char_ratio': continuous_char_ratio(parse_with_default_scheme(url).netloc),\n",
        "        'avg_token_length': avg_token_length(parse_with_default_scheme(url).path),\n",
        "        'memiliki_protokol': Label_Encoding(has_protocol(url)),\n",
        "        'tld': extract_tld(parse_with_default_scheme(url).netloc),\n",
        "        'domain_entropy': entropy(parse_with_default_scheme(url).netloc)\n",
        "    }\n",
        "\n",
        "    return features\n",
        "\n",
        "# Fungsi untuk membuat prediksi dari URL yang diinputkan pengguna\n",
        "def predict_from_url(url, model):\n",
        "    new_features = extract_features(url)\n",
        "    for key, value in new_features.items():\n",
        "\n",
        "     if 'error' in new_features:\n",
        "        return new_features['error']\n",
        "\n",
        "    new_features_df = pd.DataFrame([new_features])\n",
        "    # Buat prediksi\n",
        "    prediction = model.predict(new_features_df)\n",
        "\n",
        "    # Mengubah hasil prediksi menjadi deskripsi yang lebih informatif\n",
        "    if prediction[0] == 1:\n",
        "        return \"URL yang Anda masukkan adalah URL Legal.\"\n",
        "    else:\n",
        "        return \"URL yang Anda masukkan adalah URL phishing.\""
      ]
    },
    {
      "cell_type": "markdown",
      "source": [
        "##Membuat Fungsi Utama Untuk Menjalankan Program"
      ],
      "metadata": {
        "id": "6DO3S9Ma3-TO"
      }
    },
    {
      "cell_type": "markdown",
      "source": [
        "Fungsi ini digunakan untuk menjalankan final model yang berupa program yang dapat mendeteksi situs phishing berdasarkan inputan pengguna. Final model memiliki 3 output yang terdiri dari 2 output prediksi URL legal / phishing dan 1 output URL tidak valid jika URL yang dimasukkan pengguna bukan merupakan URL yang valid. Kemudian terdapat sebuah fitur looping setelah pengguna menginputkan URL. Jika pengguna ingin menginputkan URL kembali, pengguna dapat menginputkan 'y'. Jika ingin menghentikan program maka pengguna bisa menginputkan 'n'."
      ],
      "metadata": {
        "id": "XUPptAx2GQT2"
      }
    },
    {
      "cell_type": "code",
      "execution_count": 8,
      "metadata": {
        "colab": {
          "base_uri": "https://localhost:8080/"
        },
        "id": "azq6lNaAA5Lh",
        "outputId": "0091607a-e42c-46c1-cabf-bb07459f9aeb"
      },
      "outputs": [
        {
          "output_type": "stream",
          "name": "stdout",
          "text": [
            "\n",
            "Masukkan URL yang ingin dideteksi: https://bit.ly/Dataset_utama\n",
            "URL yang Anda masukkan adalah URL Legal.\n",
            "\n",
            "Apakah Anda ingin memasukkan URL lain? (y/n): n\n",
            "Program dihentikan.\n"
          ]
        }
      ],
      "source": [
        "# Looping utama\n",
        "def main():\n",
        "    while True:\n",
        "        clear_output(wait=True)\n",
        "        # Meminta pengguna untuk memasukkan URL baru\n",
        "        url_baru = input(\"\\nMasukkan URL yang ingin dideteksi: \")\n",
        "\n",
        "        # Melakukan prediksi menggunakan URL baru dan model\n",
        "        prediksi_baru = predict_from_url(url_baru, model_2)\n",
        "\n",
        "        # Menampilkan hasil prediksi\n",
        "        print(prediksi_baru)\n",
        "\n",
        "        while True:\n",
        "            user_choice = input(\"\\nApakah Anda ingin memasukkan URL lain? (y/n): \").lower()\n",
        "            if user_choice == 'y':\n",
        "                break\n",
        "            elif user_choice == 'n':\n",
        "                print(\"Program dihentikan.\")\n",
        "                return\n",
        "            else:\n",
        "                print(\"Input yang Anda masukkan salah, harap menginputkan 'y' untuk memasukkan kembali URL atau 'n' untuk menghentikan program\")\n",
        "\n",
        "if __name__ == \"__main__\":\n",
        "    main()"
      ]
    },
    {
      "cell_type": "code",
      "source": [
        ""
      ],
      "metadata": {
        "id": "diIPkGrEnjVw"
      },
      "execution_count": null,
      "outputs": []
    }
  ],
  "metadata": {
    "colab": {
      "provenance": []
    },
    "kernelspec": {
      "display_name": "Python 3",
      "name": "python3"
    },
    "language_info": {
      "name": "python"
    }
  },
  "nbformat": 4,
  "nbformat_minor": 0
}